{
 "cells": [
  {
   "cell_type": "markdown",
   "id": "3091af3d",
   "metadata": {
    "papermill": {
     "duration": 0.01137,
     "end_time": "2023-09-18T22:45:44.893241",
     "exception": false,
     "start_time": "2023-09-18T22:45:44.881871",
     "status": "completed"
    },
    "tags": []
   },
   "source": [
    "**Introduction:** The goal of this project is to predict the medical condition of SEVERAL distinct abdominal organs using only a single slice of the CT scan of the patient. Although the test data is 2D images, the labeled input data of subjects includes all slices from a 3D scan. Minority of the subjects also have segmentation masks available that indicates the position of each organi in their scans. The output labels of the model should be probability of injury for each organ. Note that some of the organs have different levels of injury (healthy/low/high).<br>\n",
    "\n",
    "**Approach:** Our approach to predict the output labels is to serialize a UNet and 5 parallel CNNs for all organs as follows:\n",
    "1) A deep neural network with UNet architecture that learns segmentations from the existing subjects, and expands it across all subjects.<br>\n",
    "2) Once segmentations of all organs of all subjects are extracted from the UNET, raw scans multiplied to the segmentation probabilities (i.e. UNet output) of each organ is fed into a typical CNN architecture (5 in parallel) that outputs the output labels of each organ.<br>\n",
    "\n",
    "* UNet:       \n",
    "    - Lr scheduler with cyclic triangular pattern that decays over time\n",
    "    - Focal Tversky loss function\n",
    "\n",
    "* CNN:\n",
    "    - Segmentations are multiplied\n",
    "    - CNNs are now run on patients not on slices, in other words, each batch consists of patients and each patient has N slices on their first dimension while the last two dims are just image dims. \n",
    "    - N (10) equidistant slices are picked across the whole session. If less available, \"Nearest\" interpolation will be done.\n",
    "    - Separate CNN with appropriate loss function is designed for each organ\n",
    "    - BCElosswithlogits is used for organs with only 2 levels of output (healthy/injured)\n",
    "    - CrossEntropy is used for organs with more than 2 levels of output (healthy/low/high)\n",
    "    \n",
    "\n",
    "**Results:** <br>\n",
    "- The UNet architecture has a decent sensitivity and specificity\n",
    "- Because CNN loss is a custom function, CNN outputs logits not cross entropy or else. post_proc function translates logits to probs.\n",
    "- In this approach we won't have an issue of integrating the output labels of all slices into one since it is already integrated in the CNNs\n",
    "- Importantly, If two sessions are available for a subject, the one with higher HU is used to extract background mask which is for extravasation detection."
   ]
  },
  {
   "cell_type": "markdown",
   "id": "46b6ea74",
   "metadata": {
    "papermill": {
     "duration": 0.010313,
     "end_time": "2023-09-18T22:45:44.914670",
     "exception": false,
     "start_time": "2023-09-18T22:45:44.904357",
     "status": "completed"
    },
    "tags": []
   },
   "source": [
    "# Initializations"
   ]
  },
  {
   "cell_type": "code",
   "execution_count": 1,
   "id": "2a5e3aa6",
   "metadata": {
    "execution": {
     "iopub.execute_input": "2023-09-18T22:45:44.939056Z",
     "iopub.status.busy": "2023-09-18T22:45:44.938418Z",
     "iopub.status.idle": "2023-09-18T22:45:53.774257Z",
     "shell.execute_reply": "2023-09-18T22:45:53.772907Z"
    },
    "papermill": {
     "duration": 8.852116,
     "end_time": "2023-09-18T22:45:53.777676",
     "exception": false,
     "start_time": "2023-09-18T22:45:44.925560",
     "status": "completed"
    },
    "tags": []
   },
   "outputs": [],
   "source": [
    "import warnings\n",
    "warnings.filterwarnings('ignore')\n",
    "\n",
    "import os\n",
    "import random\n",
    "\n",
    "import numpy as np\n",
    "import pandas as pd\n",
    "import matplotlib.pyplot as plt\n",
    "import matplotlib as mpl\n",
    "\n",
    "import sklearn.metrics as metrics\n",
    "\n",
    "from PIL import Image as im\n",
    "import cv2\n",
    "import pydicom as dcm\n",
    "\n",
    "import torch\n",
    "import torch.nn as nn\n",
    "import torch.nn.functional as f\n",
    "from torch.utils.data import Dataset, DataLoader\n",
    "import torch.optim as optim\n",
    "\n",
    "import torchvision\n",
    "import torchvision.transforms.v2 as T\n",
    "import albumentations as A\n",
    "from albumentations.core.transforms_interface import DualTransform\n",
    "\n",
    "from tqdm import tqdm\n",
    "import gc                "
   ]
  },
  {
   "cell_type": "code",
   "execution_count": 2,
   "id": "9ec3e7ed",
   "metadata": {
    "execution": {
     "iopub.execute_input": "2023-09-18T22:45:53.802426Z",
     "iopub.status.busy": "2023-09-18T22:45:53.801510Z",
     "iopub.status.idle": "2023-09-18T22:45:53.824274Z",
     "shell.execute_reply": "2023-09-18T22:45:53.823062Z"
    },
    "papermill": {
     "duration": 0.039192,
     "end_time": "2023-09-18T22:45:53.827595",
     "exception": false,
     "start_time": "2023-09-18T22:45:53.788403",
     "status": "completed"
    },
    "tags": []
   },
   "outputs": [],
   "source": [
    "# ________________________________________________________________________________________________________________ INITILIZATIONS\n",
    "\n",
    "def set_device():\n",
    "    device = 'cuda' if torch.cuda.is_available() else 'cpu'\n",
    "    print(device)\n",
    "    return device    \n",
    "\n",
    "def set_data_paths():\n",
    "    data_path = {}\n",
    "    data_path['root'] = '/kaggle/input/rsna-2023-abdominal-trauma-detection'\n",
    "    data_path['train'] = '/kaggle/input/rsna-2023-abdominal-trauma-detection/train_images'\n",
    "    data_path['segmentations'] = '/kaggle/input/rsna-2023-abdominal-trauma-detection/segmentations'\n",
    "    data_path['test'] = '/kaggle/input/rsna-2023-abdominal-trauma-detection/test_images'\n",
    "    data_path['masks'] = '/kaggle/input/unet256clean-masks-v2/unet256clean_masks/unet256clean_masks'\n",
    "    data_path['masks_augmented'] = '/kaggle/input/unet256clean-masks-with-augs-liver/unet256clean-masks_with_augs_Liver'\n",
    "    return data_path\n",
    "\n",
    "def create_segmentation_dict():\n",
    "    # Mask organ label mapping\n",
    "    segmentation_dict = {}\n",
    "    segmentation_dict['segmentation_class_to_inx'] = {'Background': 0, 'Liver': 1, 'Spleen': 2, 'Kidney_left': 3, 'Kidney_right': 4, 'Bowel': 5}\n",
    "    segmentation_dict['segmentaiton_inx_to_class'] = {0: 'Background', 1: 'Liver', 2:'Spleen', 3:'Kidney_left', 4:'Kidney_right', 5 :'Bowel'}\n",
    "    segmentation_dict['final_output'] = ['Background', 'Bowel', 'Kidney' , 'Liver' , 'Spleen']\n",
    "    return segmentation_dict\n",
    "\n",
    "# ________________________________________________________________________________________________________________ POST-PROCESSING OUTPUT TOOLS\n",
    "\n",
    "# convert output labels to CNN nodes for targets in training CNN\n",
    "def convert_pd_to_CNN_targets(patient_list, cfg):\n",
    "    patient_list['bowel'] = patient_list.apply(lambda x: x['bowel_injury'], axis=1).astype('category')\n",
    "    patient_list['extravasation'] = patient_list.apply(lambda x: x['extravasation_injury'], axis=1).astype('category')\n",
    "    patient_list = patient_list.drop(columns=['bowel_injury', 'bowel_healthy', 'extravasation_injury', 'extravasation_healthy', 'any_injury'])\n",
    "    patient_list = patient_list.iloc[:, -11:]\n",
    "    patient_list = pd.concat([patient_list.iloc[:, -2:], patient_list.iloc[:, :-2]], axis=1)\n",
    "    patient_list = patient_list.apply(lambda x: x.astype(np.uint8))\n",
    "    return patient_list\n",
    "# ________________________________________________________________________________________________________________ RANDOM TOOLS\n",
    "def triangular_lr(current_step: int, base_lr=0.001, triangle_height=100, triangle_width=400):        \n",
    "    res = current_step % triangle_width\n",
    "\n",
    "    div = int(current_step / triangle_width) # 0, 1, 2, ...\n",
    "    scale = 0.9**div\n",
    "    triangle_height *= scale\n",
    "    \n",
    "    m = triangle_height / (triangle_width/2)\n",
    "\n",
    "    if res < triangle_width/2:\n",
    "         factor =  m * (res + 1 - triangle_width/2) + triangle_height\n",
    "    elif res >= triangle_width/2: \n",
    "        res -= triangle_width/2\n",
    "        factor = -m * res + triangle_height\n",
    "        \n",
    "    return max(factor, 1)\n",
    "\n",
    "# ________________________________________________________________________________________________________________ PLOTTING TOOLS\n",
    "def visualize_CNN_batch(batch, num_patients_to_plot=1):\n",
    "    (image_origs, masks, target) = batch\n",
    "\n",
    "    for patient_index in range(0, num_patients_to_plot):\n",
    "        fig, ax = plt.subplots(6, image_origs.shape[1], figsize=(20, 15))\n",
    "\n",
    "        for slice_ind in range( image_origs.shape[1] ):\n",
    "            plt.sca( ax[0, slice_ind] )\n",
    "            plt.imshow( image_origs[patient_index, slice_ind].squeeze(), cmap='gray')\n",
    "            plt.axis('off')\n",
    "            plt.title('CT')\n",
    "\n",
    "            for organ_ind, organ in enumerate(masks.keys()):\n",
    "                plt.sca( ax[organ_ind + 1, slice_ind] )\n",
    "                plt.imshow( masks[organ][patient_index, slice_ind], cmap='gray')\n",
    "                plt.axis('off')\n",
    "                plt.title(organ)"
   ]
  },
  {
   "cell_type": "markdown",
   "id": "d9d272d5",
   "metadata": {
    "papermill": {
     "duration": 0.011214,
     "end_time": "2023-09-18T22:45:53.850154",
     "exception": false,
     "start_time": "2023-09-18T22:45:53.838940",
     "status": "completed"
    },
    "tags": []
   },
   "source": [
    "# Define hyperparameters"
   ]
  },
  {
   "cell_type": "code",
   "execution_count": 3,
   "id": "340367c4",
   "metadata": {
    "execution": {
     "iopub.execute_input": "2023-09-18T22:45:53.873517Z",
     "iopub.status.busy": "2023-09-18T22:45:53.873048Z",
     "iopub.status.idle": "2023-09-18T22:45:54.100773Z",
     "shell.execute_reply": "2023-09-18T22:45:54.099275Z"
    },
    "papermill": {
     "duration": 0.243215,
     "end_time": "2023-09-18T22:45:54.104039",
     "exception": false,
     "start_time": "2023-09-18T22:45:53.860824",
     "status": "completed"
    },
    "tags": []
   },
   "outputs": [
    {
     "name": "stdout",
     "output_type": "stream",
     "text": [
      "cpu\n"
     ]
    }
   ],
   "source": [
    "class CFG():\n",
    "    def __init__(self):\n",
    "        self.device = set_device()\n",
    "        self.data_path = set_data_paths()\n",
    "        self.segmentation_dict = create_segmentation_dict()\n",
    "                \n",
    "        self.DS_RATE = 1 # downsamples slices in each session\n",
    "        self.image_size = (128, 128)\n",
    "        self.validation_size = 0.2\n",
    "        \n",
    "        # CNN\n",
    "        self.CNN = {}\n",
    "        self.CNN['num_slices'] = 8\n",
    "        self.CNN['CNN_inputsize'] = (self.CNN['num_slices'], 128, 128)\n",
    "        self.CNN['channel_list'] = [self.CNN['CNN_inputsize'][0], 16, 32, 64, 128]#[self.CNN['CNN_inputsize'][0], 32, 64, 128]\n",
    "        self.CNN['dropout_ps'] = [0.0, 0.0, 0.0, 0.0, 0.0]#[0.2, 0.3, 0.4, 0.5, 0.5]\n",
    "        self.CNN['hidden_layer'] = 256\n",
    "        self.CNN['n_epochs'] = 50\n",
    "        self.CNN['batch_size'] = 128\n",
    "        \n",
    "        # output\n",
    "        self.output = {}\n",
    "        df = pd.read_csv('/kaggle/input/rsna-2023-abdominal-trauma-detection/train.csv')\n",
    "        self.output['columns_weights'] = {col: weight for col, weight in zip(list(df.columns[1:-1]), [1, 2, 1, 6, 1, 2, 4, 1, 2, 4, 1, 2, 4]) }\n",
    "        self.output['organs_weights'] = {'bowel':3, 'extravasation':7, 'kidney':7, 'liver':7, 'spleen':7}\n",
    "        self.output['nodes'] = ['bowel', 'extravasation', 'kidney_healthy', 'kidney_low', 'kidney_high', 'liver_healthy', 'liver_low', 'liver_high', 'spleen_healthy', 'spleen_low', 'spleen_high']        \n",
    "\n",
    "gc.collect()\n",
    "cfg = CFG()\n",
    "\n",
    "np.set_printoptions(precision=2,suppress=True)"
   ]
  },
  {
   "cell_type": "markdown",
   "id": "910ee505",
   "metadata": {
    "papermill": {
     "duration": 0.010346,
     "end_time": "2023-09-18T22:45:54.125254",
     "exception": false,
     "start_time": "2023-09-18T22:45:54.114908",
     "status": "completed"
    },
    "tags": []
   },
   "source": [
    "# Create patient list"
   ]
  },
  {
   "cell_type": "code",
   "execution_count": 4,
   "id": "2a88755e",
   "metadata": {
    "execution": {
     "iopub.execute_input": "2023-09-18T22:45:54.149217Z",
     "iopub.status.busy": "2023-09-18T22:45:54.148718Z",
     "iopub.status.idle": "2023-09-18T22:45:54.510807Z",
     "shell.execute_reply": "2023-09-18T22:45:54.509111Z"
    },
    "papermill": {
     "duration": 0.377317,
     "end_time": "2023-09-18T22:45:54.513612",
     "exception": false,
     "start_time": "2023-09-18T22:45:54.136295",
     "status": "completed"
    },
    "tags": []
   },
   "outputs": [
    {
     "data": {
      "text/html": [
       "<div>\n",
       "<style scoped>\n",
       "    .dataframe tbody tr th:only-of-type {\n",
       "        vertical-align: middle;\n",
       "    }\n",
       "\n",
       "    .dataframe tbody tr th {\n",
       "        vertical-align: top;\n",
       "    }\n",
       "\n",
       "    .dataframe thead th {\n",
       "        text-align: right;\n",
       "    }\n",
       "</style>\n",
       "<table border=\"1\" class=\"dataframe\">\n",
       "  <thead>\n",
       "    <tr style=\"text-align: right;\">\n",
       "      <th></th>\n",
       "      <th>patient_id</th>\n",
       "      <th>series_id</th>\n",
       "      <th>instances</th>\n",
       "      <th>bowel_healthy</th>\n",
       "      <th>bowel_injury</th>\n",
       "      <th>extravasation_healthy</th>\n",
       "      <th>extravasation_injury</th>\n",
       "      <th>kidney_healthy</th>\n",
       "      <th>kidney_low</th>\n",
       "      <th>kidney_high</th>\n",
       "      <th>liver_healthy</th>\n",
       "      <th>liver_low</th>\n",
       "      <th>liver_high</th>\n",
       "      <th>spleen_healthy</th>\n",
       "      <th>spleen_low</th>\n",
       "      <th>spleen_high</th>\n",
       "      <th>high_hu</th>\n",
       "      <th>any_injury</th>\n",
       "      <th>aug_number</th>\n",
       "    </tr>\n",
       "  </thead>\n",
       "  <tbody>\n",
       "    <tr>\n",
       "      <th>0</th>\n",
       "      <td>26501</td>\n",
       "      <td>22032</td>\n",
       "      <td>[2, 131, 8, 137, 14, 144, 21, 150, 27, 157, 34...</td>\n",
       "      <td>True</td>\n",
       "      <td>False</td>\n",
       "      <td>True</td>\n",
       "      <td>False</td>\n",
       "      <td>True</td>\n",
       "      <td>False</td>\n",
       "      <td>False</td>\n",
       "      <td>True</td>\n",
       "      <td>False</td>\n",
       "      <td>False</td>\n",
       "      <td>True</td>\n",
       "      <td>False</td>\n",
       "      <td>False</td>\n",
       "      <td>False</td>\n",
       "      <td>False</td>\n",
       "      <td>0</td>\n",
       "    </tr>\n",
       "    <tr>\n",
       "      <th>1</th>\n",
       "      <td>26501</td>\n",
       "      <td>31614</td>\n",
       "      <td>[128, 131, 45, 47, 50, 53, 56, 59, 62, 65, 68,...</td>\n",
       "      <td>True</td>\n",
       "      <td>False</td>\n",
       "      <td>True</td>\n",
       "      <td>False</td>\n",
       "      <td>True</td>\n",
       "      <td>False</td>\n",
       "      <td>False</td>\n",
       "      <td>True</td>\n",
       "      <td>False</td>\n",
       "      <td>False</td>\n",
       "      <td>True</td>\n",
       "      <td>False</td>\n",
       "      <td>False</td>\n",
       "      <td>True</td>\n",
       "      <td>False</td>\n",
       "      <td>0</td>\n",
       "    </tr>\n",
       "    <tr>\n",
       "      <th>2</th>\n",
       "      <td>32627</td>\n",
       "      <td>51693</td>\n",
       "      <td>[641, 266, 523, 781, 149, 406, 664, 289, 547, ...</td>\n",
       "      <td>True</td>\n",
       "      <td>False</td>\n",
       "      <td>True</td>\n",
       "      <td>False</td>\n",
       "      <td>True</td>\n",
       "      <td>False</td>\n",
       "      <td>False</td>\n",
       "      <td>False</td>\n",
       "      <td>True</td>\n",
       "      <td>False</td>\n",
       "      <td>True</td>\n",
       "      <td>False</td>\n",
       "      <td>False</td>\n",
       "      <td>False</td>\n",
       "      <td>True</td>\n",
       "      <td>0</td>\n",
       "    </tr>\n",
       "    <tr>\n",
       "      <th>3</th>\n",
       "      <td>32627_aug1</td>\n",
       "      <td>51693</td>\n",
       "      <td>[641, 266, 523, 781, 149, 406, 664, 289, 547, ...</td>\n",
       "      <td>True</td>\n",
       "      <td>False</td>\n",
       "      <td>True</td>\n",
       "      <td>False</td>\n",
       "      <td>True</td>\n",
       "      <td>False</td>\n",
       "      <td>False</td>\n",
       "      <td>False</td>\n",
       "      <td>True</td>\n",
       "      <td>False</td>\n",
       "      <td>True</td>\n",
       "      <td>False</td>\n",
       "      <td>False</td>\n",
       "      <td>False</td>\n",
       "      <td>True</td>\n",
       "      <td>1</td>\n",
       "    </tr>\n",
       "    <tr>\n",
       "      <th>4</th>\n",
       "      <td>32627_aug2</td>\n",
       "      <td>51693</td>\n",
       "      <td>[641, 266, 523, 781, 149, 406, 664, 289, 547, ...</td>\n",
       "      <td>True</td>\n",
       "      <td>False</td>\n",
       "      <td>True</td>\n",
       "      <td>False</td>\n",
       "      <td>True</td>\n",
       "      <td>False</td>\n",
       "      <td>False</td>\n",
       "      <td>False</td>\n",
       "      <td>True</td>\n",
       "      <td>False</td>\n",
       "      <td>True</td>\n",
       "      <td>False</td>\n",
       "      <td>False</td>\n",
       "      <td>False</td>\n",
       "      <td>True</td>\n",
       "      <td>2</td>\n",
       "    </tr>\n",
       "  </tbody>\n",
       "</table>\n",
       "</div>"
      ],
      "text/plain": [
       "   patient_id series_id                                          instances  \\\n",
       "0       26501     22032  [2, 131, 8, 137, 14, 144, 21, 150, 27, 157, 34...   \n",
       "1       26501     31614  [128, 131, 45, 47, 50, 53, 56, 59, 62, 65, 68,...   \n",
       "2       32627     51693  [641, 266, 523, 781, 149, 406, 664, 289, 547, ...   \n",
       "3  32627_aug1     51693  [641, 266, 523, 781, 149, 406, 664, 289, 547, ...   \n",
       "4  32627_aug2     51693  [641, 266, 523, 781, 149, 406, 664, 289, 547, ...   \n",
       "\n",
       "   bowel_healthy  bowel_injury  extravasation_healthy  extravasation_injury  \\\n",
       "0           True         False                   True                 False   \n",
       "1           True         False                   True                 False   \n",
       "2           True         False                   True                 False   \n",
       "3           True         False                   True                 False   \n",
       "4           True         False                   True                 False   \n",
       "\n",
       "   kidney_healthy  kidney_low  kidney_high  liver_healthy  liver_low  \\\n",
       "0            True       False        False           True      False   \n",
       "1            True       False        False           True      False   \n",
       "2            True       False        False          False       True   \n",
       "3            True       False        False          False       True   \n",
       "4            True       False        False          False       True   \n",
       "\n",
       "   liver_high  spleen_healthy  spleen_low  spleen_high  high_hu  any_injury  \\\n",
       "0       False            True       False        False    False       False   \n",
       "1       False            True       False        False     True       False   \n",
       "2       False            True       False        False    False        True   \n",
       "3       False            True       False        False    False        True   \n",
       "4       False            True       False        False    False        True   \n",
       "\n",
       "   aug_number  \n",
       "0           0  \n",
       "1           0  \n",
       "2           0  \n",
       "3           1  \n",
       "4           2  "
      ]
     },
     "execution_count": 4,
     "metadata": {},
     "output_type": "execute_result"
    }
   ],
   "source": [
    "patient_list_train = pd.read_parquet('/kaggle/input/unet256clean-masks-with-augs-liver/patient_list_per_series_with_augs.parquet')\n",
    "patient_list_train.reset_index(inplace=True, drop=True)\n",
    "patient_list_train.head(5)"
   ]
  },
  {
   "cell_type": "code",
   "execution_count": 5,
   "id": "f9f0f4f8",
   "metadata": {
    "execution": {
     "iopub.execute_input": "2023-09-18T22:45:54.538465Z",
     "iopub.status.busy": "2023-09-18T22:45:54.537604Z",
     "iopub.status.idle": "2023-09-18T22:45:54.566332Z",
     "shell.execute_reply": "2023-09-18T22:45:54.564982Z"
    },
    "papermill": {
     "duration": 0.04456,
     "end_time": "2023-09-18T22:45:54.569400",
     "exception": false,
     "start_time": "2023-09-18T22:45:54.524840",
     "status": "completed"
    },
    "tags": []
   },
   "outputs": [],
   "source": [
    "organ = 'liver'\n",
    "\n",
    "patient_list_orig = patient_list_train[patient_list_train.aug_number == 0]\n",
    "healthy_orig = patient_list_orig[patient_list_orig[organ+'_healthy']==True]\n",
    "low_orig = patient_list_orig[patient_list_orig[organ+'_low']==True]\n",
    "high_orig = patient_list_orig[patient_list_orig[organ+'_high']==True]\n",
    "healthy_p_id = healthy_orig.patient_id.unique().tolist()\n",
    "low_p_id = low_orig.patient_id.unique().tolist()\n",
    "high_p_id = high_orig.patient_id.unique().tolist()\n",
    "\n",
    "healthy_p_val = np.random.choice(healthy_p_id, size=int(cfg.validation_size*len(healthy_p_id)), replace=False)\n",
    "low_p_val = np.random.choice(low_p_id, size=int(cfg.validation_size*len(low_p_id)), replace=False)\n",
    "high_p_val = np.random.choice(high_p_id, size=int(cfg.validation_size*len(high_p_id)), replace=False)\n",
    "patient_list_val = patient_list_train[patient_list_train.patient_id.isin(np.concatenate([healthy_p_val, low_p_val, high_p_val]))].copy()"
   ]
  },
  {
   "cell_type": "code",
   "execution_count": 6,
   "id": "70d09778",
   "metadata": {
    "execution": {
     "iopub.execute_input": "2023-09-18T22:45:54.593919Z",
     "iopub.status.busy": "2023-09-18T22:45:54.593417Z",
     "iopub.status.idle": "2023-09-18T22:45:54.678131Z",
     "shell.execute_reply": "2023-09-18T22:45:54.676934Z"
    },
    "papermill": {
     "duration": 0.101235,
     "end_time": "2023-09-18T22:45:54.681538",
     "exception": false,
     "start_time": "2023-09-18T22:45:54.580303",
     "status": "completed"
    },
    "tags": []
   },
   "outputs": [],
   "source": [
    "mr_val = patient_list_val.copy().drop(columns=['instances'])\n",
    "mr_main = patient_list_train.copy().drop(columns=['instances'])\n",
    "patient_list_tr = pd.merge(mr_main, mr_val, indicator=True, how='outer').query('_merge==\"left_only\"').drop('_merge', axis=1)\n",
    "patient_list_tr['instances'] = patient_list_train[patient_list_train.patient_id.isin(patient_list_tr.patient_id)].instances"
   ]
  },
  {
   "cell_type": "code",
   "execution_count": 7,
   "id": "266fcda3",
   "metadata": {
    "execution": {
     "iopub.execute_input": "2023-09-18T22:45:54.706991Z",
     "iopub.status.busy": "2023-09-18T22:45:54.706557Z",
     "iopub.status.idle": "2023-09-18T22:45:54.723242Z",
     "shell.execute_reply": "2023-09-18T22:45:54.721964Z"
    },
    "papermill": {
     "duration": 0.032939,
     "end_time": "2023-09-18T22:45:54.726523",
     "exception": false,
     "start_time": "2023-09-18T22:45:54.693584",
     "status": "completed"
    },
    "tags": []
   },
   "outputs": [
    {
     "name": "stdout",
     "output_type": "stream",
     "text": [
      "healthy:  2261\n",
      "low:  5388\n",
      "high:  1290\n"
     ]
    }
   ],
   "source": [
    "l_healthy = patient_list_tr[(patient_list_tr[organ+'_healthy']==True) & (patient_list_tr.aug_number == 0)]\n",
    "l_low = patient_list_tr[patient_list_tr[organ+'_low']==True]\n",
    "l_high = patient_list_tr[patient_list_tr[organ+'_high']==True]\n",
    "print(\"healthy: \", len(l_healthy.patient_id.unique()))\n",
    "print(\"low: \", len(l_low.patient_id.unique()))\n",
    "print(\"high: \", len(l_high.patient_id.unique()))"
   ]
  },
  {
   "cell_type": "markdown",
   "id": "4fc390e1",
   "metadata": {
    "papermill": {
     "duration": 0.011347,
     "end_time": "2023-09-18T22:45:54.749185",
     "exception": false,
     "start_time": "2023-09-18T22:45:54.737838",
     "status": "completed"
    },
    "tags": []
   },
   "source": [
    "### Downsample extra augmentations"
   ]
  },
  {
   "cell_type": "code",
   "execution_count": 8,
   "id": "333f1b4a",
   "metadata": {
    "execution": {
     "iopub.execute_input": "2023-09-18T22:45:54.774135Z",
     "iopub.status.busy": "2023-09-18T22:45:54.773645Z",
     "iopub.status.idle": "2023-09-18T22:45:54.794433Z",
     "shell.execute_reply": "2023-09-18T22:45:54.792757Z"
    },
    "papermill": {
     "duration": 0.036607,
     "end_time": "2023-09-18T22:45:54.797207",
     "exception": false,
     "start_time": "2023-09-18T22:45:54.760600",
     "status": "completed"
    },
    "tags": []
   },
   "outputs": [
    {
     "name": "stdout",
     "output_type": "stream",
     "text": [
      "healthy:  2261\n",
      "low:  2500\n",
      "high:  1290\n"
     ]
    }
   ],
   "source": [
    "l_low_orig = l_low[l_low.aug_number == 0]\n",
    "l_low_augs = l_low[l_low.aug_number != 0]\n",
    "downsampled_samples = np.random.choice(l_low_augs.patient_id.unique(), size=2500 - len(l_low_orig.patient_id.unique()), replace=False)\n",
    "l_low_augs = l_low_augs[l_low_augs.patient_id.isin(downsampled_samples)]\n",
    "l_low = pd.concat([l_low_orig, l_low_augs])\n",
    "print(\"healthy: \", len(l_healthy.patient_id.unique()))\n",
    "print(\"low: \", len(l_low.patient_id.unique()))\n",
    "print(\"high: \", len(l_high.patient_id.unique()))"
   ]
  },
  {
   "cell_type": "code",
   "execution_count": 9,
   "id": "f537f90d",
   "metadata": {
    "execution": {
     "iopub.execute_input": "2023-09-18T22:45:54.823251Z",
     "iopub.status.busy": "2023-09-18T22:45:54.821598Z",
     "iopub.status.idle": "2023-09-18T22:45:54.833112Z",
     "shell.execute_reply": "2023-09-18T22:45:54.831861Z"
    },
    "papermill": {
     "duration": 0.027351,
     "end_time": "2023-09-18T22:45:54.835617",
     "exception": false,
     "start_time": "2023-09-18T22:45:54.808266",
     "status": "completed"
    },
    "tags": []
   },
   "outputs": [
    {
     "name": "stdout",
     "output_type": "stream",
     "text": [
      "total number of samples: 6051\n"
     ]
    }
   ],
   "source": [
    "patient_list_train_downsampled = pd.concat([l_healthy, l_low, l_high])\n",
    "print(\"total number of samples:\", len(patient_list_train_downsampled.patient_id.unique()))"
   ]
  },
  {
   "cell_type": "markdown",
   "id": "9511e5a7",
   "metadata": {
    "papermill": {
     "duration": 0.011166,
     "end_time": "2023-09-18T22:45:54.857870",
     "exception": false,
     "start_time": "2023-09-18T22:45:54.846704",
     "status": "completed"
    },
    "tags": []
   },
   "source": [
    "# Implement CNN"
   ]
  },
  {
   "cell_type": "markdown",
   "id": "d02f61b8",
   "metadata": {
    "papermill": {
     "duration": 0.010907,
     "end_time": "2023-09-18T22:45:54.880328",
     "exception": false,
     "start_time": "2023-09-18T22:45:54.869421",
     "status": "completed"
    },
    "tags": []
   },
   "source": [
    "## Define augmentation tranformations"
   ]
  },
  {
   "cell_type": "code",
   "execution_count": 10,
   "id": "e38822cb",
   "metadata": {
    "execution": {
     "iopub.execute_input": "2023-09-18T22:45:54.905224Z",
     "iopub.status.busy": "2023-09-18T22:45:54.903940Z",
     "iopub.status.idle": "2023-09-18T22:45:54.912069Z",
     "shell.execute_reply": "2023-09-18T22:45:54.911106Z"
    },
    "papermill": {
     "duration": 0.023459,
     "end_time": "2023-09-18T22:45:54.914838",
     "exception": false,
     "start_time": "2023-09-18T22:45:54.891379",
     "status": "completed"
    },
    "tags": []
   },
   "outputs": [],
   "source": [
    "transforms = {\n",
    "    \"healthy\": [\n",
    "    A.Affine(scale=(0.7, 1.1), translate_px={'x':(-5, 20), 'y':(-20, 20)}, rotate=(-15,15), shear={'x':(-15, 15), 'y':(-15, 15)}, p=0.5),\n",
    "    A.ElasticTransform(alpha=50, sigma=5, alpha_affine=5, interpolation=cv2.INTER_NEAREST, p=0.5),\n",
    "    A.GridDistortion(num_steps=5, distort_limit=0.5, interpolation=cv2.INTER_NEAREST, normalized=True, p=0.5)\n",
    "    ],\n",
    "    \"all\": [\n",
    "        #A.InvertImg(p=0.5)\n",
    "    ]\n",
    "}"
   ]
  },
  {
   "cell_type": "markdown",
   "id": "4013d9c5",
   "metadata": {
    "papermill": {
     "duration": 0.010842,
     "end_time": "2023-09-18T22:45:54.936791",
     "exception": false,
     "start_time": "2023-09-18T22:45:54.925949",
     "status": "completed"
    },
    "tags": []
   },
   "source": [
    "### Define DataLoaders for CNN which uses UNet output as input"
   ]
  },
  {
   "cell_type": "code",
   "execution_count": 11,
   "id": "4bab0c1a",
   "metadata": {
    "execution": {
     "iopub.execute_input": "2023-09-18T22:45:54.964051Z",
     "iopub.status.busy": "2023-09-18T22:45:54.963185Z",
     "iopub.status.idle": "2023-09-18T22:45:55.005800Z",
     "shell.execute_reply": "2023-09-18T22:45:55.004318Z"
    },
    "papermill": {
     "duration": 0.059878,
     "end_time": "2023-09-18T22:45:55.009054",
     "exception": false,
     "start_time": "2023-09-18T22:45:54.949176",
     "status": "completed"
    },
    "tags": []
   },
   "outputs": [],
   "source": [
    "class RSNA_CNN_Dataset(Dataset):\n",
    "    def __init__(self, patient_data, cfg, organ, mode='train', transform_for_healthy=None, transform_for_all=None):\n",
    "        self.cfg = cfg\n",
    "        self.mode = mode\n",
    "        self.organ = organ\n",
    "        self.num_slices = self.cfg.CNN['num_slices']\n",
    "        self.patient_data = patient_data\n",
    "        self.patient_list = patient_data['patient_id'].unique().tolist()    \n",
    "        self.transform_for_healthy = transform_for_healthy\n",
    "        self.transform_for_all = transform_for_all\n",
    "        if self.mode == 'test':\n",
    "            self.dcm_dir = self.cfg.data_path['test']\n",
    "        else:\n",
    "            self.dcm_dir = self.cfg.data_path['train']\n",
    "        \n",
    "    def __len__(self):\n",
    "        return len(self.patient_list)\n",
    "    \n",
    "    def __getitem__(self, index):\n",
    "        this_patient_id = self.patient_list[index]\n",
    "        this_patient_id_orig = this_patient_id.split(\"_\")[0]\n",
    "        this_patient_df = self.patient_data[self.patient_data.patient_id == this_patient_id]\n",
    "        series_id_all = this_patient_df.series_id.unique().tolist()\n",
    "        this_patient_aug = this_patient_df.aug_number.tolist()[0]\n",
    "        if this_patient_aug == 0:\n",
    "            augmented = False\n",
    "        else:\n",
    "            this_patient_aug -= 1\n",
    "            augmented = True\n",
    "        \n",
    "        if len(series_id_all) != 1: # IF THERE ARE MULTIPLE SESSIONS, EXTRACT EXTRAVASATION MASK FROM SESSION WITH HIGHER AORTIC HU MEASURE.\n",
    "            background_serie = this_patient_df[this_patient_df.high_hu == True].series_id.values[0]\n",
    "            solid_serie = this_patient_df[this_patient_df.high_hu == False].series_id.values[0]\n",
    "            \n",
    "        else:\n",
    "            solid_serie = this_patient_df[this_patient_df.high_hu == False].series_id.values[0]\n",
    "            background_serie = solid_serie\n",
    "        \n",
    "        solid_instances = np.array(sorted(this_patient_df[this_patient_df.series_id == solid_serie].instances.values[0]))\n",
    "        \n",
    "        if len(series_id_all) != 1:\n",
    "            background_instances = np.array(sorted(this_patient_df[this_patient_df.series_id == background_serie].instances.values[0]))\n",
    "        else:\n",
    "            background_instances = solid_instances\n",
    "            \n",
    "        \n",
    "        if self.organ != \"extravasation\":\n",
    "            instances = solid_instances\n",
    "            serie = solid_serie\n",
    "            load_organ = self.organ.capitalize()\n",
    "        else:\n",
    "            instances = background_instances\n",
    "            serie = background_serie\n",
    "            load_organ = \"Background\"\n",
    "        organ_dict = {}\n",
    "        pixels_dict = {}\n",
    "        serie_path = f\"{self.dcm_dir}/{this_patient_id_orig}/{serie}\"\n",
    "        instances = self.correct_z_orientation(serie_path, instances)\n",
    "        for instance in instances:\n",
    "            instance_exists = False\n",
    "            if augmented:\n",
    "                try:\n",
    "                    img = im.open(f\"{self.cfg.data_path['masks_augmented']}/{this_patient_id_orig}/{serie}/{instance}_{load_organ}_aug{this_patient_aug}.png\")\n",
    "                    instance_exists = True\n",
    "                except FileNotFoundError as e:\n",
    "                    pass\n",
    "            else:\n",
    "                try:\n",
    "                    img = im.open(f\"{self.cfg.data_path['masks']}/{this_patient_id_orig}/{serie}/{instance}_{load_organ}.png\")\n",
    "                    instance_exists = True\n",
    "                except FileNotFoundError as e:\n",
    "                    pass\n",
    "            if instance_exists:\n",
    "                tensor = T.ToTensor()(img)\n",
    "                if torch.sum(tensor).item() != 0:\n",
    "                    organ_dict[instance] = tensor\n",
    "                    pixels_dict[instance] = torch.sum(tensor).item()\n",
    "        \n",
    "        # Only keep 5 slices before and after the slice with max pixel count\n",
    "        if len(organ_dict):\n",
    "            pixel_counts = np.array(list(pixels_dict.values()))\n",
    "            max_pixel_arg = np.argmax(pixel_counts)\n",
    "            first_slice = max(max_pixel_arg - 5, 0)\n",
    "            last_slice = min(len(pixels_dict), max_pixel_arg + 6)\n",
    "            instances_to_keep = list(organ_dict.keys())[first_slice:last_slice]\n",
    "            \n",
    "            # interpolate to have 5 slices only\n",
    "            idx = np.round(np.linspace(0, len(instances_to_keep) - 1, self.num_slices)).astype(int)\n",
    "            tensors = []\n",
    "            for i in idx:\n",
    "                tensors.append(organ_dict[instances_to_keep[i]])        \n",
    "\n",
    "            # ----------------------- \"PARHAM CODE FOR AUGMENTATION OF HEALTHY SUBJECTS + INVERTING ALL IMAGES AT P=0.5\"\n",
    "            if self.mode == 'train':\n",
    "                tensors = self.augment_images(this_patient_id, self.organ, tensors, self.transform_for_healthy, self.transform_for_all)\n",
    "            masks = torch.concat(tensors, dim=0)\n",
    "        else:\n",
    "            masks = torch.zeros((self.num_slices, self.cfg.image_size[0], self.cfg.image_size[1])).type(torch.float32)\n",
    "            print(f'Patient {this_patient_id} did not have any organ segmentation... passed zero images')\n",
    "        \n",
    "        # -------------------------------------------------- extract target labels for this subject (just read first slice)\n",
    "        if self.mode in ['train', 'validation']:\n",
    "            target = this_patient_df[this_patient_df.high_hu == False].loc[:, ['bowel_injury', 'extravasation_injury'] + self.cfg.output['nodes'][2:]]\n",
    "            target = target.rename({'bowel_injury': \"bowel\", 'extravasation_injury': \"extravasation\"})\n",
    "            if self.organ in [\"bowel\", \"extravasation\"]:\n",
    "                target = target.loc[:, f\"{self.organ}_injury\"]\n",
    "            else:\n",
    "                target = target.loc[:, [f\"{self.organ}_healthy\", f\"{self.organ}_low\", f\"{self.organ}_high\"]]\n",
    "            target = torch.tensor( target.values ).squeeze()\n",
    "        else:\n",
    "            target = []\n",
    "        \n",
    "        return masks, target\n",
    "\n",
    "    def correct_z_orientation(self, serie_path, input_data):    \n",
    "        z_dir = self.get_z_acquisition_direction( serie_path )\n",
    "        if z_dir == 'upward':\n",
    "            return input_data[::-1]\n",
    "        else:\n",
    "            return input_data\n",
    "    \n",
    "    def get_z_acquisition_direction(self, session_path):\n",
    "        instances = self.sorted_dcm_labels(session_path)\n",
    "    \n",
    "        # extract z_start\n",
    "        instance_start = instances[0]\n",
    "        filepath = session_path + '/' + str(instance_start) + '.dcm'\n",
    "        z_start = dcm.dcmread( filepath ).ImagePositionPatient[-1]\n",
    "        # extract z_end\n",
    "        instance_end = instances[-1]\n",
    "        filepath = session_path + '/' + str(instance_end) + '.dcm'\n",
    "        z_end = dcm.dcmread( filepath ).ImagePositionPatient[-1]\n",
    "        \n",
    "        if z_end < z_start:\n",
    "            return 'downward'\n",
    "        else:\n",
    "            return 'upward'\n",
    "    \n",
    "    def sorted_dcm_labels(self, folder):\n",
    "        filenames = os.listdir(folder)\n",
    "        filenames = list(set([int(filename.split('.')[0]) for filename in filenames]))\n",
    "        names = sorted(filenames)\n",
    "        return names\n",
    "    \n",
    "    def augment_images(self, this_patient_id, organ, tensors, transform_for_healthy, transform_for_all):\n",
    "        # ----------- create an image dict for albumentation fuction to pass all slices at once\n",
    "        images_dict = {}\n",
    "        for ind, tensor in enumerate(tensors):\n",
    "            img = cv2.normalize(np.array(tensor).transpose((1,2,0)), None, alpha = 0, beta = 255, norm_type = cv2.NORM_MINMAX, dtype=cv2.CV_8U)\n",
    "            if organ == 'Background':\n",
    "                img = self.correct_extravasation_background(img)\n",
    "            \n",
    "            if ind == 0:\n",
    "                image_key = 'image'\n",
    "            else:\n",
    "                image_key = 'image'+str(ind+1)\n",
    "            images_dict[image_key] = img        \n",
    "\n",
    "        # ----------- create the transform function\n",
    "        if 'aug' not in this_patient_id:\n",
    "            transform = A.Compose(transform_for_healthy + transform_for_all, additional_targets={key: 'image' for key in list(images_dict.keys())[1:]})\n",
    "        else:\n",
    "            transform = A.Compose(transform_for_all, additional_targets={key: 'image' for key in list(images_dict.keys())[1:]})\n",
    "        \n",
    "        # ----------- Output augmentations\n",
    "        out = transform(**images_dict)\n",
    "        tensors_aug = [T.ToTensor()(img_aug) for img_aug in out.values()]\n",
    "        return tensors_aug"
   ]
  },
  {
   "cell_type": "markdown",
   "id": "37421a90",
   "metadata": {
    "papermill": {
     "duration": 0.011641,
     "end_time": "2023-09-18T22:45:55.032330",
     "exception": false,
     "start_time": "2023-09-18T22:45:55.020689",
     "status": "completed"
    },
    "tags": []
   },
   "source": [
    "### Create dataloaders"
   ]
  },
  {
   "cell_type": "code",
   "execution_count": 12,
   "id": "8f28398b",
   "metadata": {
    "execution": {
     "iopub.execute_input": "2023-09-18T22:45:55.057361Z",
     "iopub.status.busy": "2023-09-18T22:45:55.056848Z",
     "iopub.status.idle": "2023-09-18T22:45:55.070303Z",
     "shell.execute_reply": "2023-09-18T22:45:55.068860Z"
    },
    "papermill": {
     "duration": 0.029523,
     "end_time": "2023-09-18T22:45:55.073101",
     "exception": false,
     "start_time": "2023-09-18T22:45:55.043578",
     "status": "completed"
    },
    "tags": []
   },
   "outputs": [
    {
     "name": "stdout",
     "output_type": "stream",
     "text": [
      "CNN train size: 6051\n",
      "CNN validation size: 628\n"
     ]
    }
   ],
   "source": [
    "CNN_train_dataset = RSNA_CNN_Dataset(patient_list_train_downsampled, cfg, organ, mode='train', transform_for_healthy=transforms['healthy'], transform_for_all=transforms['all'])\n",
    "CNN_train_dataloader = DataLoader(CNN_train_dataset, batch_size=cfg.CNN['batch_size'], shuffle=True)\n",
    "print(f'CNN train size: {len(CNN_train_dataset)}')\n",
    "\n",
    "CNN_validation_dataset = RSNA_CNN_Dataset(patient_list_val, cfg, organ, mode='validation', transform_for_healthy=transforms['healthy'], transform_for_all=transforms['all'])\n",
    "CNN_validation_dataloader = DataLoader(CNN_validation_dataset, batch_size=cfg.CNN['batch_size'], shuffle=True)\n",
    "print(f'CNN validation size: {len(CNN_validation_dataset)}')"
   ]
  },
  {
   "cell_type": "markdown",
   "id": "5da613cf",
   "metadata": {
    "papermill": {
     "duration": 0.010765,
     "end_time": "2023-09-18T22:45:55.095205",
     "exception": false,
     "start_time": "2023-09-18T22:45:55.084440",
     "status": "completed"
    },
    "tags": []
   },
   "source": [
    "### Visually inspect the data"
   ]
  },
  {
   "cell_type": "code",
   "execution_count": 13,
   "id": "3e9ed8f1",
   "metadata": {
    "execution": {
     "iopub.execute_input": "2023-09-18T22:45:55.120716Z",
     "iopub.status.busy": "2023-09-18T22:45:55.119017Z",
     "iopub.status.idle": "2023-09-18T22:46:29.681039Z",
     "shell.execute_reply": "2023-09-18T22:46:29.679251Z"
    },
    "papermill": {
     "duration": 34.577683,
     "end_time": "2023-09-18T22:46:29.684032",
     "exception": false,
     "start_time": "2023-09-18T22:45:55.106349",
     "status": "completed"
    },
    "tags": []
   },
   "outputs": [
    {
     "data": {
      "image/png": "[encoded data removed]",
      "text/plain": [
       "<Figure size 2000x1500 with 8 Axes>"
      ]
     },
     "metadata": {},
     "output_type": "display_data"
    },
    {
     "data": {
      "image/png": "[encoded data removed]",
      "text/plain": [
       "<Figure size 2000x1500 with 8 Axes>"
      ]
     },
     "metadata": {},
     "output_type": "display_data"
    }
   ],
   "source": [
    "masks, target = next(iter(CNN_validation_dataloader))\n",
    "\n",
    "num_patients_to_plot = 2\n",
    "\n",
    "for patient_index in range(0, num_patients_to_plot):\n",
    "    fig, ax = plt.subplots(1, masks.shape[1], figsize=(20, 15))\n",
    "\n",
    "    for slice_ind in range( masks.shape[1] ):\n",
    "        plt.sca(ax[slice_ind])\n",
    "        plt.imshow(masks[patient_index, slice_ind], cmap='gray')\n",
    "        plt.axis('off')\n",
    "        plt.title(organ)"
   ]
  },
  {
   "cell_type": "markdown",
   "id": "6f4dcecf",
   "metadata": {
    "papermill": {
     "duration": 0.015643,
     "end_time": "2023-09-18T22:46:29.713092",
     "exception": false,
     "start_time": "2023-09-18T22:46:29.697449",
     "status": "completed"
    },
    "tags": []
   },
   "source": [
    "### Define the CNN architecture"
   ]
  },
  {
   "cell_type": "code",
   "execution_count": 14,
   "id": "8b165e1e",
   "metadata": {
    "execution": {
     "iopub.execute_input": "2023-09-18T22:46:29.744786Z",
     "iopub.status.busy": "2023-09-18T22:46:29.744216Z",
     "iopub.status.idle": "2023-09-18T22:46:29.761426Z",
     "shell.execute_reply": "2023-09-18T22:46:29.759773Z"
    },
    "papermill": {
     "duration": 0.03457,
     "end_time": "2023-09-18T22:46:29.764398",
     "exception": false,
     "start_time": "2023-09-18T22:46:29.729828",
     "status": "completed"
    },
    "tags": []
   },
   "outputs": [],
   "source": [
    "class CNN(nn.Module):\n",
    "    def __init__(self, input_size, output_size, channel_list, dropout_ps, hidden_layer_size):\n",
    "        super().__init__()\n",
    "        \n",
    "        self.dropout_ps = dropout_ps\n",
    "        self.conv_blocks = nn.ModuleList([\n",
    "            conv_block(channel_list[i], channel_list[i+1], self.dropout_ps[i]) for i in range( len( channel_list ) - 1 )])\n",
    "        self.image_size_after_conv = int(input_size[1] / (2 ** (len(channel_list)-1) ))\n",
    "        self.l1 = nn.Linear(channel_list[-1] * self.image_size_after_conv ** 2, hidden_layer_size)\n",
    "        self.l2 = nn.Linear(hidden_layer_size, output_size)\n",
    "        \n",
    "    def forward(self, x):\n",
    "        for conv_block in self.conv_blocks:\n",
    "            x = conv_block(x)\n",
    "        \n",
    "        x = x.reshape(x.shape[0], -1)\n",
    "        x = f.relu( self.l1(x) )\n",
    "        x = self.l2(x)\n",
    "        return x\n",
    "        \n",
    "class conv_block(nn.Module):\n",
    "    def __init__(self, in_channel, out_channel, dropout = None):\n",
    "        super().__init__()\n",
    "        self.conv1 = nn.Conv2d(in_channel, out_channel, 3, padding='same', bias=True)\n",
    "        self.batchnorm1 = nn.BatchNorm2d(out_channel)\n",
    "        self.conv2 = nn.Conv2d(out_channel, out_channel, 3, padding='same', bias=True)\n",
    "        self.batchnorm2 = nn.BatchNorm2d(out_channel)\n",
    "        self.maxpool = nn.MaxPool2d(2)\n",
    "        \n",
    "    def forward(self, x):\n",
    "        x = self.conv1(x)\n",
    "        x = self.batchnorm1(x)\n",
    "        x = self.conv2(x)\n",
    "        x = self.batchnorm2(x)\n",
    "        x = self.maxpool(x)\n",
    "        return x"
   ]
  },
  {
   "cell_type": "markdown",
   "id": "eda83340",
   "metadata": {
    "papermill": {
     "duration": 0.012481,
     "end_time": "2023-09-18T22:46:29.790289",
     "exception": false,
     "start_time": "2023-09-18T22:46:29.777808",
     "status": "completed"
    },
    "tags": []
   },
   "source": [
    "### Define a class for the overall CNN model containing different CNNs per organ and trainings etc."
   ]
  },
  {
   "cell_type": "code",
   "execution_count": 15,
   "id": "632501f5",
   "metadata": {
    "execution": {
     "iopub.execute_input": "2023-09-18T22:46:29.819143Z",
     "iopub.status.busy": "2023-09-18T22:46:29.817470Z",
     "iopub.status.idle": "2023-09-18T22:46:29.853320Z",
     "shell.execute_reply": "2023-09-18T22:46:29.851979Z"
    },
    "papermill": {
     "duration": 0.05411,
     "end_time": "2023-09-18T22:46:29.857142",
     "exception": false,
     "start_time": "2023-09-18T22:46:29.803032",
     "status": "completed"
    },
    "tags": []
   },
   "outputs": [],
   "source": [
    "class Organ_CNN(nn.Module):\n",
    "    def __init__(self, cfg, train_ds, val_ds, organ):\n",
    "        # boilerplate\n",
    "        super().__init__()\n",
    "        self.cfg = cfg\n",
    "        self.organ = organ\n",
    "        self.output_size = 2 if self.organ in [\"bowel\", \"extravasation\"] else 3\n",
    "        \n",
    "        if self.organ in [\"liver\", \"kidney\", \"spleen\"]:\n",
    "            self.weights = torch.tensor([1.0, 2.0, 4.0]).to(self.cfg.device)\n",
    "        elif self.organ == \"bowel\":\n",
    "            self.weights = torch.tensor([1.0, 2.0]).to(self.cfg.device)\n",
    "        else:\n",
    "            self.weights = torch.tensor([1.0, 6.0]).to(self.cfg.device)\n",
    "\n",
    "        self.weights /= self.weights.min()\n",
    "        \n",
    "        self.CNN = CNN(input_size=self.cfg.CNN['CNN_inputsize'], output_size=self.output_size, \n",
    "                       channel_list=self.cfg.CNN['channel_list'], hidden_layer_size=self.cfg.CNN['hidden_layer'], \n",
    "                      dropout_ps=self.cfg.CNN['dropout_ps']).to(self.cfg.device)\n",
    "        self.optim = optim.Adam(self.CNN.parameters(), lr=1)\n",
    "        #self.optim = optim.SGD(self.CNN.parameters(), lr=0.01)\n",
    "        #self.lrs = optim.lr_scheduler.ExponentialLR(self.optim, gamma=0.95)\n",
    "        self.lrs = optim.lr_scheduler.LambdaLR(self.optim, self.get_lr)\n",
    "        #self.lrs = optim.lr_scheduler.LambdaLR(self.optim, lambda x: triangular_lr(x, base_lr=1e-3, triangle_height=1e+2, triangle_width=4 * len(train_ds)))\n",
    "        \n",
    "        self.train_ds = train_ds\n",
    "        self.val_ds = val_ds\n",
    "        self.train_dl = torch.utils.data.DataLoader(self.train_ds, batch_size=self.cfg.CNN['batch_size'], shuffle=True)\n",
    "        self.val_dl = torch.utils.data.DataLoader(self.val_ds, batch_size=self.cfg.CNN['batch_size'], shuffle=True)\n",
    "        \n",
    "    def get_lr(self, epoch):\n",
    "        init_lr = 0.001\n",
    "        max_lr = 0.002\n",
    "        if epoch < 10:\n",
    "            return init_lr*(epoch+1)/10\n",
    "        else:\n",
    "            return 0.96**(epoch-9) * max_lr\n",
    "    \n",
    "    def loss(self, pred, true, output_size=2, weights=None):\n",
    "        if output_size == 2:\n",
    "            return f.binary_cross_entropy_with_logits(pred, true, weight=weights)\n",
    "        else:\n",
    "            return f.cross_entropy(pred, true, weight=weights)\n",
    "    \n",
    "    def initialize_weights(self):\n",
    "        for m in self.modules():\n",
    "            if isinstance(m, (nn.Conv2d, nn.ConvTranspose2d)):\n",
    "                #nn.init.normal_(m.weight.data, 0, 0.02)\n",
    "                nn.init.kaiming_normal_(m.weight.data)\n",
    "    \n",
    "    def train(self):\n",
    "        train_losses = []\n",
    "        test_losses = []\n",
    "        lrs = []\n",
    "        for epoch in range(self.cfg.CNN['n_epochs']):\n",
    "        \n",
    "            gc.collect()\n",
    "            self.CNN.train()\n",
    "\n",
    "            running_loss = 0\n",
    "            for masks, target in tqdm(self.train_dl, total=len(self.train_ds)//self.cfg.CNN['batch_size']+1):\n",
    "\n",
    "                # Processing the batch\n",
    "                images = masks\n",
    "                targets = target\n",
    "                \n",
    "                images = images.to(self.cfg.device).type(torch.float32)\n",
    "                targets = targets.to(self.cfg.device).type(torch.float32)\n",
    "                self.optim.zero_grad()\n",
    "                output = self.CNN(images)\n",
    "                loss = self.loss(output, targets, output_size=self.output_size, weights=self.weights)\n",
    "                running_loss += loss.item() * images.shape[0]\n",
    "                loss.backward()\n",
    "                self.optim.step()\n",
    "                \n",
    "                # for batch based lr\n",
    "                #lr = self.lrs.get_lr()[0]\n",
    "                #lrs.append(lr)\n",
    "                #self.lrs.step()\n",
    "\n",
    "            train_losses.append(running_loss / len(self.train_ds))\n",
    "            \n",
    "            # for epoch based lr\n",
    "            lr = self.lrs.get_lr()[0]\n",
    "            lrs.append(lr)\n",
    "            self.lrs.step()\n",
    "\n",
    "        # --------------------------------- model evaluation\n",
    "            with torch.no_grad():\n",
    "                self.CNN.eval()\n",
    "\n",
    "                running_loss = 0\n",
    "                for masks, target in self.val_dl:\n",
    "                    \n",
    "                    images = masks\n",
    "                    targets = target\n",
    "                    \n",
    "                    images = images.to(self.cfg.device).type(torch.float32)\n",
    "                    targets = targets.to(self.cfg.device).type(torch.float32)\n",
    "                    output = self.CNN(images)\n",
    "                    loss = self.loss(output, targets, output_size=self.output_size, weights=self.weights)\n",
    "                    running_loss += loss.item() * images.shape[0]\n",
    "\n",
    "                \n",
    "                test_losses.append(running_loss / len(self.val_ds))\n",
    "\n",
    "                print(f'\\n[{epoch+1}/{self.cfg.CNN[\"n_epochs\"]}]: {self.organ}: train_loss={train_losses[-1]:0.2f} / test_loss={test_losses[-1]:0.2f} ------------- lr={lrs[-1]:0.8f}\\n')\n",
    "        return train_losses, test_losses, lrs\n",
    "    \n",
    "    def forward(self, data):\n",
    "        targets = self.CNN(data)\n",
    "        return targets"
   ]
  },
  {
   "cell_type": "code",
   "execution_count": 16,
   "id": "ee01b5ea",
   "metadata": {
    "execution": {
     "iopub.execute_input": "2023-09-18T22:46:29.893905Z",
     "iopub.status.busy": "2023-09-18T22:46:29.891913Z",
     "iopub.status.idle": "2023-09-18T22:46:29.947135Z",
     "shell.execute_reply": "2023-09-18T22:46:29.945631Z"
    },
    "papermill": {
     "duration": 0.074965,
     "end_time": "2023-09-18T22:46:29.950403",
     "exception": false,
     "start_time": "2023-09-18T22:46:29.875438",
     "status": "completed"
    },
    "tags": []
   },
   "outputs": [],
   "source": [
    "liver_model = Organ_CNN(cfg, CNN_train_dataset, CNN_validation_dataset, organ='liver').to(cfg.device)\n",
    "liver_model.initialize_weights()"
   ]
  },
  {
   "cell_type": "code",
   "execution_count": 17,
   "id": "52da586e",
   "metadata": {
    "execution": {
     "iopub.execute_input": "2023-09-18T22:46:29.979513Z",
     "iopub.status.busy": "2023-09-18T22:46:29.978318Z",
     "iopub.status.idle": "2023-09-19T05:58:11.331292Z",
     "shell.execute_reply": "2023-09-19T05:58:11.329625Z"
    },
    "papermill": {
     "duration": 25901.617946,
     "end_time": "2023-09-19T05:58:11.581328",
     "exception": false,
     "start_time": "2023-09-18T22:46:29.963382",
     "status": "completed"
    },
    "tags": []
   },
   "outputs": [
    {
     "name": "stderr",
     "output_type": "stream",
     "text": [
      "100%|██████████| 48/48 [24:09<00:00, 30.20s/it]\n"
     ]
    },
    {
     "name": "stdout",
     "output_type": "stream",
     "text": [
      "\n",
      "[1/50]: liver: train_loss=2.09 / test_loss=1.60 ------------- lr=0.00010000\n",
      "\n"
     ]
    },
    {
     "name": "stderr",
     "output_type": "stream",
     "text": [
      "100%|██████████| 48/48 [08:26<00:00, 10.56s/it]\n"
     ]
    },
    {
     "name": "stdout",
     "output_type": "stream",
     "text": [
      "\n",
      "[2/50]: liver: train_loss=1.95 / test_loss=1.43 ------------- lr=0.00020000\n",
      "\n"
     ]
    },
    {
     "name": "stderr",
     "output_type": "stream",
     "text": [
      "100%|██████████| 48/48 [07:42<00:00,  9.63s/it]\n"
     ]
    },
    {
     "name": "stdout",
     "output_type": "stream",
     "text": [
      "\n",
      "[3/50]: liver: train_loss=1.84 / test_loss=1.40 ------------- lr=0.00030000\n",
      "\n"
     ]
    },
    {
     "name": "stderr",
     "output_type": "stream",
     "text": [
      "100%|██████████| 48/48 [08:09<00:00, 10.19s/it]\n"
     ]
    },
    {
     "name": "stdout",
     "output_type": "stream",
     "text": [
      "\n",
      "[4/50]: liver: train_loss=1.69 / test_loss=1.33 ------------- lr=0.00040000\n",
      "\n"
     ]
    },
    {
     "name": "stderr",
     "output_type": "stream",
     "text": [
      "100%|██████████| 48/48 [07:46<00:00,  9.72s/it]\n"
     ]
    },
    {
     "name": "stdout",
     "output_type": "stream",
     "text": [
      "\n",
      "[5/50]: liver: train_loss=1.55 / test_loss=1.15 ------------- lr=0.00050000\n",
      "\n"
     ]
    },
    {
     "name": "stderr",
     "output_type": "stream",
     "text": [
      "100%|██████████| 48/48 [07:41<00:00,  9.62s/it]\n"
     ]
    },
    {
     "name": "stdout",
     "output_type": "stream",
     "text": [
      "\n",
      "[6/50]: liver: train_loss=1.39 / test_loss=1.26 ------------- lr=0.00060000\n",
      "\n"
     ]
    },
    {
     "name": "stderr",
     "output_type": "stream",
     "text": [
      "100%|██████████| 48/48 [07:44<00:00,  9.68s/it]\n"
     ]
    },
    {
     "name": "stdout",
     "output_type": "stream",
     "text": [
      "\n",
      "[7/50]: liver: train_loss=1.15 / test_loss=1.13 ------------- lr=0.00070000\n",
      "\n"
     ]
    },
    {
     "name": "stderr",
     "output_type": "stream",
     "text": [
      "100%|██████████| 48/48 [08:17<00:00, 10.36s/it]\n"
     ]
    },
    {
     "name": "stdout",
     "output_type": "stream",
     "text": [
      "\n",
      "[8/50]: liver: train_loss=1.05 / test_loss=1.13 ------------- lr=0.00080000\n",
      "\n"
     ]
    },
    {
     "name": "stderr",
     "output_type": "stream",
     "text": [
      "100%|██████████| 48/48 [07:47<00:00,  9.73s/it]\n"
     ]
    },
    {
     "name": "stdout",
     "output_type": "stream",
     "text": [
      "\n",
      "[9/50]: liver: train_loss=1.01 / test_loss=0.71 ------------- lr=0.00090000\n",
      "\n"
     ]
    },
    {
     "name": "stderr",
     "output_type": "stream",
     "text": [
      "100%|██████████| 48/48 [07:57<00:00,  9.95s/it]\n"
     ]
    },
    {
     "name": "stdout",
     "output_type": "stream",
     "text": [
      "\n",
      "[10/50]: liver: train_loss=0.98 / test_loss=1.10 ------------- lr=0.00100000\n",
      "\n"
     ]
    },
    {
     "name": "stderr",
     "output_type": "stream",
     "text": [
      "100%|██████████| 48/48 [07:52<00:00,  9.84s/it]\n"
     ]
    },
    {
     "name": "stdout",
     "output_type": "stream",
     "text": [
      "\n",
      "[11/50]: liver: train_loss=1.46 / test_loss=1.73 ------------- lr=0.00192000\n",
      "\n"
     ]
    },
    {
     "name": "stderr",
     "output_type": "stream",
     "text": [
      "100%|██████████| 48/48 [07:36<00:00,  9.52s/it]\n"
     ]
    },
    {
     "name": "stdout",
     "output_type": "stream",
     "text": [
      "\n",
      "[12/50]: liver: train_loss=1.19 / test_loss=1.18 ------------- lr=0.00184320\n",
      "\n"
     ]
    },
    {
     "name": "stderr",
     "output_type": "stream",
     "text": [
      "100%|██████████| 48/48 [07:41<00:00,  9.60s/it]\n"
     ]
    },
    {
     "name": "stdout",
     "output_type": "stream",
     "text": [
      "\n",
      "[13/50]: liver: train_loss=1.05 / test_loss=1.16 ------------- lr=0.00176947\n",
      "\n"
     ]
    },
    {
     "name": "stderr",
     "output_type": "stream",
     "text": [
      "100%|██████████| 48/48 [07:39<00:00,  9.56s/it]\n"
     ]
    },
    {
     "name": "stdout",
     "output_type": "stream",
     "text": [
      "\n",
      "[14/50]: liver: train_loss=0.90 / test_loss=1.08 ------------- lr=0.00169869\n",
      "\n"
     ]
    },
    {
     "name": "stderr",
     "output_type": "stream",
     "text": [
      "100%|██████████| 48/48 [07:30<00:00,  9.38s/it]\n"
     ]
    },
    {
     "name": "stdout",
     "output_type": "stream",
     "text": [
      "\n",
      "[15/50]: liver: train_loss=0.84 / test_loss=0.98 ------------- lr=0.00163075\n",
      "\n"
     ]
    },
    {
     "name": "stderr",
     "output_type": "stream",
     "text": [
      "100%|██████████| 48/48 [07:49<00:00,  9.77s/it]\n"
     ]
    },
    {
     "name": "stdout",
     "output_type": "stream",
     "text": [
      "\n",
      "[16/50]: liver: train_loss=0.79 / test_loss=1.57 ------------- lr=0.00156552\n",
      "\n"
     ]
    },
    {
     "name": "stderr",
     "output_type": "stream",
     "text": [
      "100%|██████████| 48/48 [08:09<00:00, 10.19s/it]\n"
     ]
    },
    {
     "name": "stdout",
     "output_type": "stream",
     "text": [
      "\n",
      "[17/50]: liver: train_loss=0.70 / test_loss=0.60 ------------- lr=0.00150289\n",
      "\n"
     ]
    },
    {
     "name": "stderr",
     "output_type": "stream",
     "text": [
      "100%|██████████| 48/48 [07:50<00:00,  9.79s/it]\n"
     ]
    },
    {
     "name": "stdout",
     "output_type": "stream",
     "text": [
      "\n",
      "[18/50]: liver: train_loss=0.57 / test_loss=0.62 ------------- lr=0.00144278\n",
      "\n"
     ]
    },
    {
     "name": "stderr",
     "output_type": "stream",
     "text": [
      "100%|██████████| 48/48 [07:35<00:00,  9.50s/it]\n"
     ]
    },
    {
     "name": "stdout",
     "output_type": "stream",
     "text": [
      "\n",
      "[19/50]: liver: train_loss=0.52 / test_loss=1.04 ------------- lr=0.00138507\n",
      "\n"
     ]
    },
    {
     "name": "stderr",
     "output_type": "stream",
     "text": [
      "100%|██████████| 48/48 [07:35<00:00,  9.49s/it]\n"
     ]
    },
    {
     "name": "stdout",
     "output_type": "stream",
     "text": [
      "\n",
      "[20/50]: liver: train_loss=0.51 / test_loss=0.82 ------------- lr=0.00132967\n",
      "\n"
     ]
    },
    {
     "name": "stderr",
     "output_type": "stream",
     "text": [
      "100%|██████████| 48/48 [07:31<00:00,  9.40s/it]\n"
     ]
    },
    {
     "name": "stdout",
     "output_type": "stream",
     "text": [
      "\n",
      "[21/50]: liver: train_loss=0.49 / test_loss=0.62 ------------- lr=0.00127648\n",
      "\n"
     ]
    },
    {
     "name": "stderr",
     "output_type": "stream",
     "text": [
      "100%|██████████| 48/48 [07:37<00:00,  9.53s/it]\n"
     ]
    },
    {
     "name": "stdout",
     "output_type": "stream",
     "text": [
      "\n",
      "[22/50]: liver: train_loss=0.45 / test_loss=0.45 ------------- lr=0.00122542\n",
      "\n"
     ]
    },
    {
     "name": "stderr",
     "output_type": "stream",
     "text": [
      "100%|██████████| 48/48 [07:37<00:00,  9.53s/it]\n"
     ]
    },
    {
     "name": "stdout",
     "output_type": "stream",
     "text": [
      "\n",
      "[23/50]: liver: train_loss=0.45 / test_loss=0.44 ------------- lr=0.00117640\n",
      "\n"
     ]
    },
    {
     "name": "stderr",
     "output_type": "stream",
     "text": [
      "100%|██████████| 48/48 [07:59<00:00,  9.99s/it]\n"
     ]
    },
    {
     "name": "stdout",
     "output_type": "stream",
     "text": [
      "\n",
      "[24/50]: liver: train_loss=0.43 / test_loss=0.59 ------------- lr=0.00112935\n",
      "\n"
     ]
    },
    {
     "name": "stderr",
     "output_type": "stream",
     "text": [
      "100%|██████████| 48/48 [08:09<00:00, 10.19s/it]\n"
     ]
    },
    {
     "name": "stdout",
     "output_type": "stream",
     "text": [
      "\n",
      "[25/50]: liver: train_loss=0.37 / test_loss=0.38 ------------- lr=0.00108417\n",
      "\n"
     ]
    },
    {
     "name": "stderr",
     "output_type": "stream",
     "text": [
      "100%|██████████| 48/48 [07:48<00:00,  9.75s/it]\n"
     ]
    },
    {
     "name": "stdout",
     "output_type": "stream",
     "text": [
      "\n",
      "[26/50]: liver: train_loss=0.36 / test_loss=0.44 ------------- lr=0.00104081\n",
      "\n"
     ]
    },
    {
     "name": "stderr",
     "output_type": "stream",
     "text": [
      "100%|██████████| 48/48 [07:33<00:00,  9.45s/it]\n"
     ]
    },
    {
     "name": "stdout",
     "output_type": "stream",
     "text": [
      "\n",
      "[27/50]: liver: train_loss=0.33 / test_loss=0.43 ------------- lr=0.00099917\n",
      "\n"
     ]
    },
    {
     "name": "stderr",
     "output_type": "stream",
     "text": [
      "100%|██████████| 48/48 [07:29<00:00,  9.37s/it]\n"
     ]
    },
    {
     "name": "stdout",
     "output_type": "stream",
     "text": [
      "\n",
      "[28/50]: liver: train_loss=0.33 / test_loss=0.51 ------------- lr=0.00095921\n",
      "\n"
     ]
    },
    {
     "name": "stderr",
     "output_type": "stream",
     "text": [
      "100%|██████████| 48/48 [07:34<00:00,  9.46s/it]\n"
     ]
    },
    {
     "name": "stdout",
     "output_type": "stream",
     "text": [
      "\n",
      "[29/50]: liver: train_loss=0.33 / test_loss=0.62 ------------- lr=0.00092084\n",
      "\n"
     ]
    },
    {
     "name": "stderr",
     "output_type": "stream",
     "text": [
      "100%|██████████| 48/48 [07:42<00:00,  9.64s/it]\n"
     ]
    },
    {
     "name": "stdout",
     "output_type": "stream",
     "text": [
      "\n",
      "[30/50]: liver: train_loss=0.34 / test_loss=0.47 ------------- lr=0.00088400\n",
      "\n"
     ]
    },
    {
     "name": "stderr",
     "output_type": "stream",
     "text": [
      "100%|██████████| 48/48 [07:58<00:00,  9.97s/it]\n"
     ]
    },
    {
     "name": "stdout",
     "output_type": "stream",
     "text": [
      "\n",
      "[31/50]: liver: train_loss=0.32 / test_loss=0.56 ------------- lr=0.00084864\n",
      "\n"
     ]
    },
    {
     "name": "stderr",
     "output_type": "stream",
     "text": [
      "100%|██████████| 48/48 [07:55<00:00,  9.90s/it]\n"
     ]
    },
    {
     "name": "stdout",
     "output_type": "stream",
     "text": [
      "\n",
      "[32/50]: liver: train_loss=0.31 / test_loss=0.41 ------------- lr=0.00081470\n",
      "\n"
     ]
    },
    {
     "name": "stderr",
     "output_type": "stream",
     "text": [
      "100%|██████████| 48/48 [07:56<00:00,  9.94s/it]\n"
     ]
    },
    {
     "name": "stdout",
     "output_type": "stream",
     "text": [
      "\n",
      "[33/50]: liver: train_loss=0.26 / test_loss=0.38 ------------- lr=0.00078211\n",
      "\n"
     ]
    },
    {
     "name": "stderr",
     "output_type": "stream",
     "text": [
      "100%|██████████| 48/48 [08:08<00:00, 10.18s/it]\n"
     ]
    },
    {
     "name": "stdout",
     "output_type": "stream",
     "text": [
      "\n",
      "[34/50]: liver: train_loss=0.27 / test_loss=0.51 ------------- lr=0.00075083\n",
      "\n"
     ]
    },
    {
     "name": "stderr",
     "output_type": "stream",
     "text": [
      "100%|██████████| 48/48 [07:58<00:00,  9.96s/it]\n"
     ]
    },
    {
     "name": "stdout",
     "output_type": "stream",
     "text": [
      "\n",
      "[35/50]: liver: train_loss=0.28 / test_loss=0.47 ------------- lr=0.00072079\n",
      "\n"
     ]
    },
    {
     "name": "stderr",
     "output_type": "stream",
     "text": [
      "100%|██████████| 48/48 [07:42<00:00,  9.63s/it]\n"
     ]
    },
    {
     "name": "stdout",
     "output_type": "stream",
     "text": [
      "\n",
      "[36/50]: liver: train_loss=0.27 / test_loss=0.40 ------------- lr=0.00069196\n",
      "\n"
     ]
    },
    {
     "name": "stderr",
     "output_type": "stream",
     "text": [
      "100%|██████████| 48/48 [07:36<00:00,  9.51s/it]\n"
     ]
    },
    {
     "name": "stdout",
     "output_type": "stream",
     "text": [
      "\n",
      "[37/50]: liver: train_loss=0.25 / test_loss=0.45 ------------- lr=0.00066428\n",
      "\n"
     ]
    },
    {
     "name": "stderr",
     "output_type": "stream",
     "text": [
      "100%|██████████| 48/48 [07:36<00:00,  9.51s/it]\n"
     ]
    },
    {
     "name": "stdout",
     "output_type": "stream",
     "text": [
      "\n",
      "[38/50]: liver: train_loss=0.25 / test_loss=0.37 ------------- lr=0.00063771\n",
      "\n"
     ]
    },
    {
     "name": "stderr",
     "output_type": "stream",
     "text": [
      "100%|██████████| 48/48 [07:39<00:00,  9.57s/it]\n"
     ]
    },
    {
     "name": "stdout",
     "output_type": "stream",
     "text": [
      "\n",
      "[39/50]: liver: train_loss=0.24 / test_loss=0.38 ------------- lr=0.00061220\n",
      "\n"
     ]
    },
    {
     "name": "stderr",
     "output_type": "stream",
     "text": [
      "100%|██████████| 48/48 [07:35<00:00,  9.50s/it]\n"
     ]
    },
    {
     "name": "stdout",
     "output_type": "stream",
     "text": [
      "\n",
      "[40/50]: liver: train_loss=0.26 / test_loss=0.56 ------------- lr=0.00058772\n",
      "\n"
     ]
    },
    {
     "name": "stderr",
     "output_type": "stream",
     "text": [
      "100%|██████████| 48/48 [07:35<00:00,  9.50s/it]\n"
     ]
    },
    {
     "name": "stdout",
     "output_type": "stream",
     "text": [
      "\n",
      "[41/50]: liver: train_loss=0.23 / test_loss=0.42 ------------- lr=0.00056421\n",
      "\n"
     ]
    },
    {
     "name": "stderr",
     "output_type": "stream",
     "text": [
      "100%|██████████| 48/48 [07:36<00:00,  9.51s/it]\n"
     ]
    },
    {
     "name": "stdout",
     "output_type": "stream",
     "text": [
      "\n",
      "[42/50]: liver: train_loss=0.22 / test_loss=0.34 ------------- lr=0.00054164\n",
      "\n"
     ]
    },
    {
     "name": "stderr",
     "output_type": "stream",
     "text": [
      "100%|██████████| 48/48 [07:41<00:00,  9.62s/it]\n"
     ]
    },
    {
     "name": "stdout",
     "output_type": "stream",
     "text": [
      "\n",
      "[43/50]: liver: train_loss=0.26 / test_loss=0.33 ------------- lr=0.00051997\n",
      "\n"
     ]
    },
    {
     "name": "stderr",
     "output_type": "stream",
     "text": [
      "100%|██████████| 48/48 [07:58<00:00,  9.97s/it]\n"
     ]
    },
    {
     "name": "stdout",
     "output_type": "stream",
     "text": [
      "\n",
      "[44/50]: liver: train_loss=0.23 / test_loss=0.37 ------------- lr=0.00049917\n",
      "\n"
     ]
    },
    {
     "name": "stderr",
     "output_type": "stream",
     "text": [
      "100%|██████████| 48/48 [07:44<00:00,  9.68s/it]\n"
     ]
    },
    {
     "name": "stdout",
     "output_type": "stream",
     "text": [
      "\n",
      "[45/50]: liver: train_loss=0.22 / test_loss=0.40 ------------- lr=0.00047921\n",
      "\n"
     ]
    },
    {
     "name": "stderr",
     "output_type": "stream",
     "text": [
      "100%|██████████| 48/48 [07:43<00:00,  9.66s/it]\n"
     ]
    },
    {
     "name": "stdout",
     "output_type": "stream",
     "text": [
      "\n",
      "[46/50]: liver: train_loss=0.22 / test_loss=0.38 ------------- lr=0.00046004\n",
      "\n"
     ]
    },
    {
     "name": "stderr",
     "output_type": "stream",
     "text": [
      "100%|██████████| 48/48 [07:33<00:00,  9.46s/it]\n"
     ]
    },
    {
     "name": "stdout",
     "output_type": "stream",
     "text": [
      "\n",
      "[47/50]: liver: train_loss=0.21 / test_loss=0.28 ------------- lr=0.00044164\n",
      "\n"
     ]
    },
    {
     "name": "stderr",
     "output_type": "stream",
     "text": [
      "100%|██████████| 48/48 [07:47<00:00,  9.73s/it]\n"
     ]
    },
    {
     "name": "stdout",
     "output_type": "stream",
     "text": [
      "\n",
      "[48/50]: liver: train_loss=0.20 / test_loss=0.36 ------------- lr=0.00042397\n",
      "\n"
     ]
    },
    {
     "name": "stderr",
     "output_type": "stream",
     "text": [
      "100%|██████████| 48/48 [08:16<00:00, 10.34s/it]\n"
     ]
    },
    {
     "name": "stdout",
     "output_type": "stream",
     "text": [
      "\n",
      "[49/50]: liver: train_loss=0.20 / test_loss=0.31 ------------- lr=0.00040701\n",
      "\n"
     ]
    },
    {
     "name": "stderr",
     "output_type": "stream",
     "text": [
      "100%|██████████| 48/48 [08:19<00:00, 10.41s/it]\n"
     ]
    },
    {
     "name": "stdout",
     "output_type": "stream",
     "text": [
      "\n",
      "[50/50]: liver: train_loss=0.20 / test_loss=0.45 ------------- lr=0.00039073\n",
      "\n"
     ]
    }
   ],
   "source": [
    "train_losses, test_losses, lrs = liver_model.train()"
   ]
  },
  {
   "cell_type": "code",
   "execution_count": 18,
   "id": "a934ebac",
   "metadata": {
    "execution": {
     "iopub.execute_input": "2023-09-19T05:58:12.086746Z",
     "iopub.status.busy": "2023-09-19T05:58:12.085334Z",
     "iopub.status.idle": "2023-09-19T05:58:12.589137Z",
     "shell.execute_reply": "2023-09-19T05:58:12.588025Z"
    },
    "papermill": {
     "duration": 0.760241,
     "end_time": "2023-09-19T05:58:12.591398",
     "exception": false,
     "start_time": "2023-09-19T05:58:11.831157",
     "status": "completed"
    },
    "tags": []
   },
   "outputs": [
    {
     "data": {
      "image/png": "[encoded data removed]",
      "text/plain": [
       "<Figure size 1500x750 with 2 Axes>"
      ]
     },
     "metadata": {},
     "output_type": "display_data"
    }
   ],
   "source": [
    "fig, axs = plt.subplots(1, 2, figsize=(10, 5), dpi=150)\n",
    "axs[0].plot(range(len(train_losses)), train_losses, lw=2)\n",
    "axs[1].plot(range(len(test_losses)), test_losses, lw=2)\n",
    "plt.show()"
   ]
  },
  {
   "cell_type": "code",
   "execution_count": 19,
   "id": "c1139cb4",
   "metadata": {
    "execution": {
     "iopub.execute_input": "2023-09-19T05:58:13.109587Z",
     "iopub.status.busy": "2023-09-19T05:58:13.109124Z",
     "iopub.status.idle": "2023-09-19T05:58:41.201854Z",
     "shell.execute_reply": "2023-09-19T05:58:41.200327Z"
    },
    "papermill": {
     "duration": 28.353324,
     "end_time": "2023-09-19T05:58:41.204684",
     "exception": false,
     "start_time": "2023-09-19T05:58:12.851360",
     "status": "completed"
    },
    "tags": []
   },
   "outputs": [
    {
     "data": {
      "image/png": "[encoded data removed]",
      "text/plain": [
       "<Figure size 640x480 with 2 Axes>"
      ]
     },
     "metadata": {},
     "output_type": "display_data"
    }
   ],
   "source": [
    "from sklearn.metrics import confusion_matrix, ConfusionMatrixDisplay\n",
    "from sklearn.preprocessing import OneHotEncoder\n",
    "\n",
    "CNN_confmat_dataloader = DataLoader(CNN_validation_dataset, batch_size=len(CNN_validation_dataset), shuffle=True)\n",
    "masks, targets = next(iter(CNN_confmat_dataloader))\n",
    "y_true = targets.type(torch.int)\n",
    "y_true = y_true.argmax(axis=1).view(-1, 1)\n",
    "y_pred = f.softmax(liver_model.CNN(masks.to(cfg.device)).detach().cpu())\n",
    "y_pred = y_pred.argmax(axis=1).view(-1, 1)\n",
    "cm = confusion_matrix(y_true, y_pred)\n",
    "disp = ConfusionMatrixDisplay(confusion_matrix=cm)\n",
    "disp.plot()\n",
    "plt.show()"
   ]
  },
  {
   "cell_type": "code",
   "execution_count": 20,
   "id": "7ec8d06b",
   "metadata": {
    "execution": {
     "iopub.execute_input": "2023-09-19T05:58:41.709247Z",
     "iopub.status.busy": "2023-09-19T05:58:41.708205Z",
     "iopub.status.idle": "2023-09-19T05:58:42.028640Z",
     "shell.execute_reply": "2023-09-19T05:58:42.027423Z"
    },
    "papermill": {
     "duration": 0.575069,
     "end_time": "2023-09-19T05:58:42.031941",
     "exception": false,
     "start_time": "2023-09-19T05:58:41.456872",
     "status": "completed"
    },
    "tags": []
   },
   "outputs": [],
   "source": [
    "torch.save(liver_model, \"/kaggle/working/model_liver.pth\")"
   ]
  },
  {
   "cell_type": "code",
   "execution_count": null,
   "id": "321821d3",
   "metadata": {
    "papermill": {
     "duration": 0.259642,
     "end_time": "2023-09-19T05:58:42.548177",
     "exception": false,
     "start_time": "2023-09-19T05:58:42.288535",
     "status": "completed"
    },
    "tags": []
   },
   "outputs": [],
   "source": []
  }
 ],
 "metadata": {
  "kernelspec": {
   "display_name": "Python 3",
   "language": "python",
   "name": "python3"
  },
  "language_info": {
   "codemirror_mode": {
    "name": "ipython",
    "version": 3
   },
   "file_extension": ".py",
   "mimetype": "text/x-python",
   "name": "python",
   "nbconvert_exporter": "python",
   "pygments_lexer": "ipython3",
   "version": "3.10.12"
  },
  "papermill": {
   "default_parameters": {},
   "duration": 25986.186022,
   "end_time": "2023-09-19T05:58:46.314909",
   "environment_variables": {},
   "exception": null,
   "input_path": "__notebook__.ipynb",
   "output_path": "__notebook__.ipynb",
   "parameters": {},
   "start_time": "2023-09-18T22:45:40.128887",
   "version": "2.4.0"
  }
 },
 "nbformat": 4,
 "nbformat_minor": 5
}
